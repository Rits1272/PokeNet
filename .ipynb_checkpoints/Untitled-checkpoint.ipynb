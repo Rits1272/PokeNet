{
 "cells": [
  {
   "cell_type": "code",
   "execution_count": 1,
   "metadata": {},
   "outputs": [
    {
     "name": "stderr",
     "output_type": "stream",
     "text": [
      "Using TensorFlow backend.\n"
     ]
    }
   ],
   "source": [
    "import keras\n",
    "from keras.layers import Dense, Flatten, Dropout\n",
    "from keras.models import Sequential\n",
    "from keras.optimizers import Adam\n",
    "import pandas as pd\n",
    "from keras.utils.np_utils import to_categorical\n",
    "import cv2\n",
    "from sklearn import preprocessing # label-encoder\n",
    "import os # For renaming the file names\n",
    "import random\n",
    "import matplotlib.pyplot as plt\n",
    "from keras.preprocessing import image\n",
    "import numpy as np"
   ]
  },
  {
   "cell_type": "code",
   "execution_count": 2,
   "metadata": {},
   "outputs": [],
   "source": [
    "# Reading the data\n",
    "data = pd.read_csv('train.csv')"
   ]
  },
  {
   "cell_type": "code",
   "execution_count": 3,
   "metadata": {},
   "outputs": [],
   "source": [
    "# Renaming the file names\n",
    "#for i in range(296, 600):\n",
    "#    initial_path = './Images/'+str(i)+'.jpg'\n",
    "#    final_path = './Images/'+str(i-295)+'.jpg'\n",
    "#    os.rename(initial_path, final_path)"
   ]
  },
  {
   "cell_type": "code",
   "execution_count": 4,
   "metadata": {},
   "outputs": [],
   "source": [
    "# Data Preprocessing\n",
    "# Resizing all images to 800*800*3 px.\n",
    "for i in range(1,305):\n",
    "    path = \"./Images/\"+str(i)+'.jpg'\n",
    "    img = cv2.imread(path)\n",
    "    img = cv2.resize(img, (75,75))\n",
    "    cv2.imwrite(path, img)"
   ]
  },
  {
   "cell_type": "code",
   "execution_count": 5,
   "metadata": {},
   "outputs": [],
   "source": [
    "images = []\n",
    "\n",
    "for i in range(1,305):\n",
    "    images.append(\"./Images/\"+str(i)+'.jpg')\n",
    "\n",
    "random.shuffle(images)"
   ]
  },
  {
   "cell_type": "code",
   "execution_count": 6,
   "metadata": {},
   "outputs": [
    {
     "data": {
      "text/plain": [
       "array(['Pikachu', 'Bulbasaur', 'Charmander'], dtype=object)"
      ]
     },
     "execution_count": 6,
     "metadata": {},
     "output_type": "execute_result"
    }
   ],
   "source": [
    "# Unique Labels\n",
    "data['NameOfPokemon'].unique()"
   ]
  },
  {
   "cell_type": "code",
   "execution_count": 7,
   "metadata": {},
   "outputs": [],
   "source": [
    "# Encoding the \n",
    "X = data['ImageId'] \n",
    "y = data['NameOfPokemon']\n",
    "\n",
    "label_encoder = preprocessing.LabelEncoder()\n",
    "y = label_encoder.fit_transform(y) # {'Pikachu':2, 'Bulbasaur':0, 'Charmander':1}\n",
    "y = to_categorical(y)"
   ]
  },
  {
   "cell_type": "code",
   "execution_count": 8,
   "metadata": {},
   "outputs": [
    {
     "name": "stdout",
     "output_type": "stream",
     "text": [
      "('./Images/2.jpg', array([0., 0., 1.], dtype=float32))\n",
      "./Images/2.jpg\n",
      "[0. 0. 1.]\n"
     ]
    },
    {
     "data": {
      "text/plain": [
       "304"
      ]
     },
     "execution_count": 8,
     "metadata": {},
     "output_type": "execute_result"
    }
   ],
   "source": [
    "# Training and Testing data\n",
    "X_train = images[61:305]\n",
    "X_test = images[:61]\n",
    "data_dic = {}\n",
    "\n",
    "j=0\n",
    "\n",
    "for i in range(296,498):\n",
    "    path = './Images/'+str(i-295)+'.jpg'\n",
    "    data_dic[path] = y[j]\n",
    "    j += 1\n",
    "\n",
    "for i in range(203,305):\n",
    "    path = './Images/'+str(i)+'.jpg'\n",
    "    data_dic[path] = y[j]\n",
    "    j+=1\n",
    "\n",
    "d = data_dic # Backup\n",
    "\n",
    "# Reshuffling the data\n",
    "keys = list(data_dic.keys())\n",
    "random.shuffle(keys)\n",
    "shuffled_data_list = [(key, data_dic[key]) for key in keys]\n",
    "print(shuffled_data_list[0])\n",
    "print(shuffled_data_list[0][0])\n",
    "print(shuffled_data_list[0][1])\n",
    "len(shuffled_data_list)"
   ]
  },
  {
   "cell_type": "code",
   "execution_count": 11,
   "metadata": {},
   "outputs": [
    {
     "name": "stdout",
     "output_type": "stream",
     "text": [
      "(245, 75, 75, 3)\n"
     ]
    }
   ],
   "source": [
    "X_train = []\n",
    "X_test = []\n",
    "y_train = []\n",
    "y_test = []\n",
    "\n",
    "for i in range(245):\n",
    "    img = image.load_img(shuffled_data_list[i][0], target_size=(75,75,3))\n",
    "    img = image.img_to_array(img)\n",
    "    img = img/255\n",
    "    X_train.append(img)\n",
    "    y_train.append(shuffled_data_list[i][1])\n",
    "\n",
    "for i in range(245,304):\n",
    "    img = image.load_img(shuffled_data_list[i][0], target_size=(75,75,3))\n",
    "    img = image.img_to_array(img)\n",
    "    img = img/255\n",
    "    X_test.append(img)\n",
    "    y_test.append(shuffled_data_list[i][1])\n",
    "num_pixels =75*75*3\n",
    "X_test = np.array(X_test)\n",
    "X_train = np.array(X_train)\n",
    "print(X_train.shape)\n",
    "X_train = X_train.reshape(X_train.shape[0], num_pixels)\n",
    "X_test = X_test.reshape(X_test.shape[0], num_pixels)\n",
    "y_train = np.array(y_train)\n",
    "y_test = np.array(y_test)"
   ]
  },
  {
   "cell_type": "code",
   "execution_count": 12,
   "metadata": {},
   "outputs": [
    {
     "name": "stdout",
     "output_type": "stream",
     "text": [
      "(245, 16875)\n",
      "(59, 16875)\n",
      "(245, 3)\n",
      "(59, 3)\n"
     ]
    }
   ],
   "source": [
    "print(X_train.shape)\n",
    "print(X_test.shape)\n",
    "print(y_train.shape)\n",
    "print(y_test.shape)"
   ]
  },
  {
   "cell_type": "code",
   "execution_count": 13,
   "metadata": {},
   "outputs": [],
   "source": [
    "\n",
    "def model():\n",
    "    model = Sequential()\n",
    "    model.add(Dense(512,input_dim=num_pixels,activation='relu'))\n",
    "    model.add(Dropout(0.2))\n",
    "    model.add(Dense(512, activation='relu'))\n",
    "    model.add(Dropout(0.2))\n",
    "    model.add(Dense(512, activation='relu'))\n",
    "    model.add(Dropout(0.2))\n",
    "    model.add(Dense(3, activation='softmax'))\n",
    "\n",
    "    model.summary()\n",
    "    \n",
    "    model.compile(Adam(lr=0.01), loss='categorical_crossentropy', metrics=['accuracy'])\n",
    "    \n",
    "    return model\n",
    "    "
   ]
  },
  {
   "cell_type": "code",
   "execution_count": 14,
   "metadata": {},
   "outputs": [
    {
     "name": "stderr",
     "output_type": "stream",
     "text": [
      "WARNING: Logging before flag parsing goes to stderr.\n",
      "W0801 21:53:46.121428 19888 deprecation_wrapper.py:119] From C:\\Users\\Ritik\\Miniconda3\\lib\\site-packages\\keras\\backend\\tensorflow_backend.py:74: The name tf.get_default_graph is deprecated. Please use tf.compat.v1.get_default_graph instead.\n",
      "\n",
      "W0801 21:53:46.167913 19888 deprecation_wrapper.py:119] From C:\\Users\\Ritik\\Miniconda3\\lib\\site-packages\\keras\\backend\\tensorflow_backend.py:517: The name tf.placeholder is deprecated. Please use tf.compat.v1.placeholder instead.\n",
      "\n",
      "W0801 21:53:46.180531 19888 deprecation_wrapper.py:119] From C:\\Users\\Ritik\\Miniconda3\\lib\\site-packages\\keras\\backend\\tensorflow_backend.py:4138: The name tf.random_uniform is deprecated. Please use tf.random.uniform instead.\n",
      "\n",
      "W0801 21:53:46.201025 19888 deprecation_wrapper.py:119] From C:\\Users\\Ritik\\Miniconda3\\lib\\site-packages\\keras\\backend\\tensorflow_backend.py:133: The name tf.placeholder_with_default is deprecated. Please use tf.compat.v1.placeholder_with_default instead.\n",
      "\n",
      "W0801 21:53:46.211972 19888 deprecation.py:506] From C:\\Users\\Ritik\\Miniconda3\\lib\\site-packages\\keras\\backend\\tensorflow_backend.py:3445: calling dropout (from tensorflow.python.ops.nn_ops) with keep_prob is deprecated and will be removed in a future version.\n",
      "Instructions for updating:\n",
      "Please use `rate` instead of `keep_prob`. Rate should be set to `rate = 1 - keep_prob`.\n",
      "W0801 21:53:46.281284 19888 deprecation_wrapper.py:119] From C:\\Users\\Ritik\\Miniconda3\\lib\\site-packages\\keras\\optimizers.py:790: The name tf.train.Optimizer is deprecated. Please use tf.compat.v1.train.Optimizer instead.\n",
      "\n",
      "W0801 21:53:46.288271 19888 deprecation_wrapper.py:119] From C:\\Users\\Ritik\\Miniconda3\\lib\\site-packages\\keras\\backend\\tensorflow_backend.py:3295: The name tf.log is deprecated. Please use tf.math.log instead.\n",
      "\n",
      "W0801 21:53:46.398411 19888 deprecation.py:323] From C:\\Users\\Ritik\\Miniconda3\\lib\\site-packages\\tensorflow\\python\\ops\\math_grad.py:1250: add_dispatch_support.<locals>.wrapper (from tensorflow.python.ops.array_ops) is deprecated and will be removed in a future version.\n",
      "Instructions for updating:\n",
      "Use tf.where in 2.0, which has the same broadcast rule as np.where\n"
     ]
    },
    {
     "name": "stdout",
     "output_type": "stream",
     "text": [
      "_________________________________________________________________\n",
      "Layer (type)                 Output Shape              Param #   \n",
      "=================================================================\n",
      "dense_1 (Dense)              (None, 512)               8640512   \n",
      "_________________________________________________________________\n",
      "dropout_1 (Dropout)          (None, 512)               0         \n",
      "_________________________________________________________________\n",
      "dense_2 (Dense)              (None, 512)               262656    \n",
      "_________________________________________________________________\n",
      "dropout_2 (Dropout)          (None, 512)               0         \n",
      "_________________________________________________________________\n",
      "dense_3 (Dense)              (None, 3)                 1539      \n",
      "=================================================================\n",
      "Total params: 8,904,707\n",
      "Trainable params: 8,904,707\n",
      "Non-trainable params: 0\n",
      "_________________________________________________________________\n",
      "Epoch 1/10\n",
      " - 2s - loss: 8.9629 - acc: 0.3224\n",
      "Epoch 2/10\n",
      " - 1s - loss: 10.7235 - acc: 0.3347\n",
      "Epoch 3/10\n",
      " - 1s - loss: 10.7235 - acc: 0.3347\n",
      "Epoch 4/10\n",
      " - 1s - loss: 10.7235 - acc: 0.3347\n",
      "Epoch 5/10\n",
      " - 1s - loss: 10.7235 - acc: 0.3347\n",
      "Epoch 6/10\n",
      " - 1s - loss: 10.7235 - acc: 0.3347\n",
      "Epoch 7/10\n",
      " - 1s - loss: 10.7235 - acc: 0.3347\n",
      "Epoch 8/10\n",
      " - 2s - loss: 10.7235 - acc: 0.3347\n",
      "Epoch 9/10\n",
      " - 2s - loss: 10.7235 - acc: 0.3347\n",
      "Epoch 10/10\n",
      " - 1s - loss: 10.7235 - acc: 0.3347\n"
     ]
    }
   ],
   "source": [
    "m = model()\n",
    "H = m.fit(X_train, y_train, batch_size=50, epochs=10, verbose=2)"
   ]
  },
  {
   "cell_type": "code",
   "execution_count": null,
   "metadata": {},
   "outputs": [],
   "source": [
    "print(H.history['acc'])"
   ]
  },
  {
   "cell_type": "code",
   "execution_count": null,
   "metadata": {},
   "outputs": [],
   "source": []
  }
 ],
 "metadata": {
  "kernelspec": {
   "display_name": "Python 3",
   "language": "python",
   "name": "python3"
  },
  "language_info": {
   "codemirror_mode": {
    "name": "ipython",
    "version": 3
   },
   "file_extension": ".py",
   "mimetype": "text/x-python",
   "name": "python",
   "nbconvert_exporter": "python",
   "pygments_lexer": "ipython3",
   "version": "3.7.3"
  }
 },
 "nbformat": 4,
 "nbformat_minor": 2
}
